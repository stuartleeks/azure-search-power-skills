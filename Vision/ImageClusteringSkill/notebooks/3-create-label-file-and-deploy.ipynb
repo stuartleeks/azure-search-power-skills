{
 "cells": [
  {
   "cell_type": "markdown",
   "metadata": {},
   "source": [
    "# Compare Custom Vision and Image Clustering Skill\n",
    "\n",
    "This notebook will help you to compare the usage of Custom Vision service and Image Clustering Skill. It also contains a great example of Python SDK usage. "
   ]
  },
  {
   "cell_type": "markdown",
   "metadata": {},
   "source": [
    "Now we create a label file for our clusters with inuitive search terms that will help our users easily find this \n",
    "data. If using your own data, find meaningful labels that faciliate how your users will search for this data.\n",
    "\n",
    "Here the dictionary key relates to the cluster id, and multiple labels can be applied to each cluster"
   ]
  },
  {
   "cell_type": "code",
   "execution_count": 12,
   "metadata": {},
   "outputs": [],
   "source": [
    "from dotenv import load_dotenv\n",
    "import os\n",
    "\n",
    "load_dotenv()\n",
    "\n",
    "WEB_APP_KEY = os.getenv(\"WEB_APP_KEY\")   # Set the KEY value you deployed your Web App with [YourSecretKeyCanBeAnything]\n",
    "WEB_APP_URL = os.getenv(\"WEB_APP_URL\")   # This is the deployed web app format: URL https://[appname].azurewebsites.net\n",
    "\n",
    "SEARCH_API_KEY = os.getenv(\"SEARCH_API_KEY\")  # Your ACS API Key\n",
    "ACS_URL        = os.getenv(\"ACS_URL\")         # Your ACS URL format https://[your ACS instance].search.windows.net\n",
    "DATA_SOURCE    = os.getenv(\"DATA_SOURCE\")     # The name for your data source, e.g. clustering-datasourcepr\n",
    "\n",
    "SKILLSET_NAME = os.getenv(\"SKILLSET_NAME\")  # The name of your skillset, e.g. testclusteringskillset\n",
    "COGSVC_KEY    = os.getenv(\"COGSVC_KEY\")     # This is your Cognitive Services key that resides in the same region as ACS (used to compare custom vision captions and object detection)\n",
    "\n",
    "\n",
    "INDEX_NAME = os.getenv(\"INDEX_NAME\")  # The name for the index, e.g.  clustering-indexpr\n",
    "\n"
   ]
  },
  {
   "cell_type": "code",
   "execution_count": 1,
   "metadata": {},
   "outputs": [],
   "source": [
    "import pickle\n",
    "\n",
    "label_file_name = \"labels.pkl\"\n",
    "\n",
    "# 0 is the cluster id\n",
    "dict = {2 : ['book cover', 'closed book'], 1 : ['open book', 'double spread'], 0: ['book shelf', 'library']}\n",
    "f = open(f\"../custom-skills-deployment/models/{label_file_name}\",\"wb\")  # We are saving the file to our models directory\n",
    "pickle.dump(dict,f)\n",
    "f.close()"
   ]
  },
  {
   "cell_type": "markdown",
   "metadata": {},
   "source": [
    "## Test the deployed inference API Web App "
   ]
  },
  {
   "cell_type": "code",
   "execution_count": 3,
   "metadata": {},
   "outputs": [
    {
     "name": "stdout",
     "output_type": "stream",
     "text": [
      "Exception calling Web App Failed to parse: https://[].azurewebsites.net/api/extraction\n"
     ]
    }
   ],
   "source": [
    "from requests import post, put\n",
    "import json\n",
    "\n",
    "result_response = \"\"\n",
    "\n",
    "headers = {\n",
    "    \"Ocp-Apim-Subscription-Key\": WEB_APP_KEY,     \n",
    "    \"Content-Type\": \"application/json\",\n",
    "\n",
    "}\n",
    "\n",
    "with open(\"../data/postman_request.json\") as f:\n",
    "    text = json.load(f)\n",
    "    \n",
    "\n",
    "\n",
    "try:\n",
    "    url = f\"{WEB_APP_URL}/api/extraction\"\n",
    "    resp = post(url=url, json=text, headers=headers)\n",
    "    \n",
    "    result_response = resp.json()\n",
    "    if resp.status_code == 403:\n",
    "        print(\"Authorisation Failed: Check that your KEY value is the same as on the web app setting KEY\")\n",
    "        \n",
    "    if len(result_response['values'][0]['data']['label']) > 0:\n",
    "        print(f\"API deployed successfully - predicted label is {result_response['values'][0]['data']['label']}\")\n",
    "\n",
    "except Exception as e:\n",
    "    print('Exception calling Web App', e)\n"
   ]
  },
  {
   "cell_type": "markdown",
   "metadata": {},
   "source": [
    "# Deploy the PowerSkill to Azure Search"
   ]
  },
  {
   "cell_type": "markdown",
   "metadata": {},
   "source": [
    "* The first step is to upload the data files in the data folder to a container in Azure blob storage and\n",
    "get the connection values to create the ACS data source.\n",
    "* You will need your [ACS API Key](https://docs.microsoft.com/en-us/azure/search/search-security-api-keys)\n",
    "and the URL for your ACS instance. "
   ]
  },
  {
   "cell_type": "markdown",
   "metadata": {},
   "source": [
    "# Create the data source"
   ]
  },
  {
   "cell_type": "code",
   "execution_count": 4,
   "metadata": {},
   "outputs": [
    {
     "name": "stdout",
     "output_type": "stream",
     "text": [
      "Exception creating data source Failed to parse: https://[].search.windows.net/datasources?api-version=2020-06-30\n"
     ]
    }
   ],
   "source": [
    "# Let's create a data source\n",
    "\n",
    "json_text = {\n",
    "    \"name\" : DATA_SOURCE,\n",
    "    \"type\" : \"azureblob\",\n",
    "    \"credentials\" : { \"connectionString\" : \"\"},    #  This is your azure blob connection string\n",
    "    \"container\" : { \"name\" : \"books\" }  # The name of the container where the data files are\n",
    "}\n",
    "\n",
    "headers = {\n",
    "    \"api-key\": SEARCH_API_KEY,     \n",
    "    \"Content-Type\": \"application/json\",\n",
    "\n",
    "}\n",
    "\n",
    "try:\n",
    "    url = f\"{ACS_URL}/datasources?api-version=2020-06-30\"\n",
    "    resp = post(url=url, json=json_text, headers=headers)\n",
    "    \n",
    "    result_response = resp.json()\n",
    "    if resp.status_code == 403:\n",
    "        print(\"Authorisation Failed: Check that your API KEY value is correct\")\n",
    "        \n",
    "        \n",
    "    if resp.status_code == 201:\n",
    "        print(\"Success creating data source\")\n",
    "        \n",
    "except Exception as e:\n",
    "    print('Exception creating data source', e)"
   ]
  },
  {
   "cell_type": "markdown",
   "metadata": {},
   "source": [
    "# Now we create the index"
   ]
  },
  {
   "cell_type": "code",
   "execution_count": 5,
   "metadata": {},
   "outputs": [
    {
     "name": "stdout",
     "output_type": "stream",
     "text": [
      "Exception creating index Failed to parse: https://[].search.windows.net/indexes?api-version=2020-06-30\n"
     ]
    }
   ],
   "source": [
    "\n",
    "json_text = {\n",
    "      \"name\" : INDEX_NAME,\n",
    "      \"fields\": [\n",
    "        { \"name\": \"id\", \"type\": \"Edm.String\", \"key\": \"true\", \"searchable\": \"false\" },\n",
    "        { \"name\": \"url\", \"type\": \"Edm.String\", \"searchable\": \"true\" },\n",
    "        { \"name\": \"file_name\", \"type\": \"Edm.String\", \"searchable\": \"false\" },\n",
    "        { \"name\": \"size\", \"type\": \"Edm.Int64\", \"searchable\": \"false\" },\n",
    "        { \"name\": \"last_modified\", \"type\": \"Edm.DateTimeOffset\", \"searchable\": \"false\" },\n",
    "        { \"name\": \"content\", \"type\": \"Edm.String\", \"searchable\": \"true\", \"filterable\": \"false\", \"sortable\": \"false\", \"facetable\": \"false\" },\n",
    "        { \"name\": \"label\", \"type\": \"Collection(Edm.String)\", \"searchable\": \"true\", \"filterable\": \"false\", \"sortable\": \"false\", \"facetable\": \"false\" }\n",
    "      ]\n",
    "}\n",
    "\n",
    "try:\n",
    "    url = f\"{ACS_URL}/indexes?api-version=2020-06-30\"\n",
    "    resp = post(url=url, json=json_text, headers=headers)\n",
    "    \n",
    "    result_response = resp.json()\n",
    "    if resp.status_code == 403:\n",
    "        print(\"Authorisation Failed: Check that your API KEY value is correct\")\n",
    "        \n",
    "        \n",
    "    if resp.status_code == 201:\n",
    "        print(\"Success creating index\")\n",
    "        \n",
    "except Exception as e:\n",
    "    print('Exception creating index', e)"
   ]
  },
  {
   "cell_type": "markdown",
   "metadata": {},
   "source": [
    "# Now we create the skill set"
   ]
  },
  {
   "cell_type": "code",
   "execution_count": 6,
   "metadata": {},
   "outputs": [
    {
     "name": "stdout",
     "output_type": "stream",
     "text": [
      "Exception creating skillset Failed to parse: https://[].search.windows.net/skillsets/testclusteringskillset?api-version=2020-06-30\n"
     ]
    }
   ],
   "source": [
    "# Note we are passing in the secret header key and the inference API URL to the skillset\n",
    "\n",
    "json_text = {\n",
    "    \"description\": \"Cluster images for labelling\",\n",
    "    \"skills\": [\n",
    "        {\n",
    "            \"@odata.type\": \"#Microsoft.Skills.Custom.WebApiSkill\",\n",
    "            \"description\": \"A custom skill that can cluster and auto label images\",\n",
    "            \"uri\": f\"{WEB_APP_URL}/api/extraction\",\n",
    "            \"timeout\": \"PT160S\",\n",
    "            \"batchSize\": 1,\n",
    "            \"context\": \"/document/normalized_images/*\",\n",
    "            \"httpHeaders\": {\n",
    "                \"Ocp-Apim-Subscription-Key\": SEARCH_API_KEY\n",
    "            },\n",
    "            \"httpMethod\": \"POST\",\n",
    "            \"inputs\": [\n",
    "            {\n",
    "                \"name\": \"images\",\n",
    "                \"source\": \"/document/normalized_images/*\"\n",
    "            }\n",
    "            ],\n",
    "            \"outputs\": [\n",
    "                {\n",
    "                    \"name\": \"label\"\n",
    "                }\n",
    "            ]\n",
    "        }\n",
    "    ],\n",
    "    \"cognitiveServices\": {\n",
    "        \"@odata.type\": \"#Microsoft.Azure.Search.CognitiveServicesByKey\",\n",
    "        \"description\": \"cogsvc\",\n",
    "        \"key\": COGSVC_KEY\n",
    "    }\n",
    "}\n",
    "\n",
    "\n",
    "try:\n",
    "    url = f\"{ACS_URL}/skillsets/{SKILLSET_NAME}?api-version=2020-06-30\"\n",
    "    resp = put(url=url, json=json_text, headers=headers)\n",
    "    \n",
    "    result_response = resp.json()\n",
    "    if resp.status_code == 403:\n",
    "        print(\"Authorisation Failed: Check that your API KEY value is correct\")\n",
    "\n",
    "    if resp.status_code == 201:\n",
    "        print(\"Success creating skillset\")\n",
    "        \n",
    "except Exception as e:\n",
    "    print('Exception creating skillset', e)\n"
   ]
  },
  {
   "cell_type": "markdown",
   "metadata": {},
   "source": [
    "# Now we create the indexer"
   ]
  },
  {
   "cell_type": "code",
   "execution_count": 7,
   "metadata": {},
   "outputs": [
    {
     "name": "stdout",
     "output_type": "stream",
     "text": [
      "Exception creating indexer Failed to parse: https://[].search.windows.net/indexers?api-version=2020-06-30\n"
     ]
    }
   ],
   "source": [
    "json_text = {\n",
    "    \"name\": \"clustering-indexerpr\",\n",
    "    \"dataSourceName\": DATA_SOURCE,\n",
    "    \"targetIndexName\": INDEX_NAME,\n",
    "    \"skillsetName\": SKILLSET_NAME,\n",
    "    \"parameters\": {\n",
    "    \"configuration\": {\n",
    "      \"allowSkillsetToReadFileData\": \"true\",\n",
    "      \"imageAction\": \"generateNormalizedImages\"\n",
    "    }\n",
    "    },\n",
    "    \"outputFieldMappings\": [\n",
    "        {\n",
    "            \"sourceFieldName\": \"/document/normalized_images/*/label\",\n",
    "            \"targetFieldName\": \"label\"\n",
    "        }\n",
    "    ]\n",
    "\n",
    "}\n",
    "\n",
    "\n",
    "try:\n",
    "    url = f\"{ACS_URL}/indexers?api-version=2020-06-30\"\n",
    "    resp = post(url=url, json=json_text, headers=headers)\n",
    "    \n",
    "    result_response = resp.json()\n",
    "    if resp.status_code == 403:\n",
    "        print(\"Authorisation Failed: Check that your API KEY value is correct\")\n",
    "\n",
    "    if resp.status_code == 201:\n",
    "        print(\"Success creating indexer\")\n",
    "        \n",
    "except Exception as e:\n",
    "    print('Exception creating indexer', e)"
   ]
  },
  {
   "cell_type": "markdown",
   "metadata": {},
   "source": [
    "## Test the cluster labels in Azure Search queries"
   ]
  },
  {
   "cell_type": "code",
   "execution_count": 8,
   "metadata": {},
   "outputs": [
    {
     "ename": "ModuleNotFoundError",
     "evalue": "No module named 'azure'",
     "output_type": "error",
     "traceback": [
      "\u001b[0;31m---------------------------------------------------------------------------\u001b[0m",
      "\u001b[0;31mModuleNotFoundError\u001b[0m                       Traceback (most recent call last)",
      "\u001b[0;32m<ipython-input-8-ff465550e92e>\u001b[0m in \u001b[0;36m<module>\u001b[0;34m\u001b[0m\n\u001b[1;32m      1\u001b[0m \u001b[0;32mimport\u001b[0m \u001b[0mos\u001b[0m\u001b[0;34m\u001b[0m\u001b[0;34m\u001b[0m\u001b[0m\n\u001b[0;32m----> 2\u001b[0;31m \u001b[0;32mfrom\u001b[0m \u001b[0mazure\u001b[0m\u001b[0;34m.\u001b[0m\u001b[0mcore\u001b[0m\u001b[0;34m.\u001b[0m\u001b[0mcredentials\u001b[0m \u001b[0;32mimport\u001b[0m \u001b[0mAzureKeyCredential\u001b[0m\u001b[0;34m\u001b[0m\u001b[0;34m\u001b[0m\u001b[0m\n\u001b[0m\u001b[1;32m      3\u001b[0m \u001b[0;32mfrom\u001b[0m \u001b[0mazure\u001b[0m\u001b[0;34m.\u001b[0m\u001b[0msearch\u001b[0m\u001b[0;34m.\u001b[0m\u001b[0mdocuments\u001b[0m \u001b[0;32mimport\u001b[0m \u001b[0mSearchClient\u001b[0m\u001b[0;34m\u001b[0m\u001b[0;34m\u001b[0m\u001b[0m\n\u001b[1;32m      4\u001b[0m \u001b[0;32mimport\u001b[0m \u001b[0mbase64\u001b[0m\u001b[0;34m\u001b[0m\u001b[0;34m\u001b[0m\u001b[0m\n\u001b[1;32m      5\u001b[0m \u001b[0;32mfrom\u001b[0m \u001b[0mio\u001b[0m \u001b[0;32mimport\u001b[0m \u001b[0mBytesIO\u001b[0m\u001b[0;34m\u001b[0m\u001b[0;34m\u001b[0m\u001b[0m\n",
      "\u001b[0;31mModuleNotFoundError\u001b[0m: No module named 'azure'"
     ]
    }
   ],
   "source": [
    "import os\n",
    "from azure.core.credentials import AzureKeyCredential\n",
    "from azure.search.documents import SearchClient\n",
    "import base64\n",
    "from io import BytesIO\n",
    "from PIL import Image\n",
    "import matplotlib.pyplot as plt\n",
    "\n",
    "# Get the service endpoint and API key from the environment\n",
    "endpoint = ACS_URL\n",
    "key = API_KEY\n",
    "# Enter your search term here e.g. open or closed or bookshelf\n",
    "search_term = \"open\"\n",
    "return_n_matches = 6   # Number of results to return\n",
    "\n",
    "# Create a client\n",
    "credential = AzureKeyCredential(key)\n",
    "client = SearchClient(endpoint=endpoint,\n",
    "                      index_name=INDEX_NAME,\n",
    "                      credential=credential)\n",
    "\n",
    "\n",
    "results = client.search(search_text=search_term, top=return_n_matches)\n",
    "\n",
    "for result in results:\n",
    "    book = str(base64.urlsafe_b64decode(result[\"id\"].strip() + \"==\"))\n",
    "    book_index = book.find(\"books/\")\n",
    "    try:\n",
    "        image_path = \"../data/train/\" + book[book_index+6:-3]\n",
    "    except Exception as FileNotFound:\n",
    "        image_path = \"../data/test/\" + book[book_index+6:-3]\n",
    "    image_data = open(image_path, \"rb\").read()\n",
    "    image = Image.open(BytesIO(image_data))\n",
    "    plt.imshow(image)\n",
    "    plt.axis(\"off\")\n",
    "    _ = plt.title(\"\", size=\"x-large\", y=-0.1)\n",
    "    plt.show()"
   ]
  }
 ],
 "metadata": {
  "interpreter": {
   "hash": "33f291de0fd92b8a6f9f38894d1e3345d92874d6adb2586114aeb76b419608b1"
  },
  "kernelspec": {
   "display_name": "Python 3.7.10 64-bit ('ipykernel_py3': conda)",
   "name": "python3"
  },
  "language_info": {
   "codemirror_mode": {
    "name": "ipython",
    "version": 3
   },
   "file_extension": ".py",
   "mimetype": "text/x-python",
   "name": "python",
   "nbconvert_exporter": "python",
   "pygments_lexer": "ipython3",
   "version": "3.7.10"
  }
 },
 "nbformat": 4,
 "nbformat_minor": 4
}